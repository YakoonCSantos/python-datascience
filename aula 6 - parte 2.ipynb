{
 "cells": [
  {
   "cell_type": "code",
   "execution_count": 74,
   "metadata": {},
   "outputs": [],
   "source": [
    "import pandas as pd\n",
    "import numpy as np\n",
    "#https://www.kaggle.com/ashirwadsangwan/imdb-dataset"
   ]
  },
  {
   "cell_type": "code",
   "execution_count": 75,
   "metadata": {},
   "outputs": [],
   "source": [
    "#definindo os caminhos dos arquivos\n",
    "names = pd.read_csv('C:/Users/fic/Documents/IMDb Dataset/name.basics.tsv/name.basics.tsv', sep = \"\\t\")\n"
   ]
  },
  {
   "cell_type": "code",
   "execution_count": 76,
   "metadata": {},
   "outputs": [],
   "source": [
    "titles = pd.read_csv('C:/Users/fic/Documents/IMDb Dataset/title.akas.tsv/title.akas.tsv', sep = \"\\t\")\n"
   ]
  },
  {
   "cell_type": "code",
   "execution_count": 77,
   "metadata": {},
   "outputs": [],
   "source": [
    "titles_basic = pd.read_csv('C:/Users/fic/Documents/IMDb Dataset/title.basics.tsv/title.basics.tsv', sep = \"\\t\")\n"
   ]
  },
  {
   "cell_type": "code",
   "execution_count": 78,
   "metadata": {},
   "outputs": [
    {
     "ename": "FileNotFoundError",
     "evalue": "[Errno 2] File b'C:/Users/fic/Documents/IMDb Datasettitle.principals.tsv/title.principals.tsv' does not exist: b'C:/Users/fic/Documents/IMDb Datasettitle.principals.tsv/title.principals.tsv'",
     "output_type": "error",
     "traceback": [
      "\u001b[1;31m---------------------------------------------------------------------------\u001b[0m",
      "\u001b[1;31mFileNotFoundError\u001b[0m                         Traceback (most recent call last)",
      "\u001b[1;32m<ipython-input-78-4c4c62913d16>\u001b[0m in \u001b[0;36m<module>\u001b[1;34m\u001b[0m\n\u001b[1;32m----> 1\u001b[1;33m \u001b[0mtitles_principal\u001b[0m \u001b[1;33m=\u001b[0m \u001b[0mpd\u001b[0m\u001b[1;33m.\u001b[0m\u001b[0mread_csv\u001b[0m\u001b[1;33m(\u001b[0m\u001b[1;34m'C:/Users/fic/Documents/IMDb Datasettitle.principals.tsv/title.principals.tsv'\u001b[0m\u001b[1;33m,\u001b[0m \u001b[0msep\u001b[0m \u001b[1;33m=\u001b[0m \u001b[1;34m\"\\t\"\u001b[0m\u001b[1;33m)\u001b[0m\u001b[1;33m\u001b[0m\u001b[1;33m\u001b[0m\u001b[0m\n\u001b[0m",
      "\u001b[1;32m~\\AppData\\Local\\Continuum\\anaconda3\\lib\\site-packages\\pandas\\io\\parsers.py\u001b[0m in \u001b[0;36mparser_f\u001b[1;34m(filepath_or_buffer, sep, delimiter, header, names, index_col, usecols, squeeze, prefix, mangle_dupe_cols, dtype, engine, converters, true_values, false_values, skipinitialspace, skiprows, skipfooter, nrows, na_values, keep_default_na, na_filter, verbose, skip_blank_lines, parse_dates, infer_datetime_format, keep_date_col, date_parser, dayfirst, iterator, chunksize, compression, thousands, decimal, lineterminator, quotechar, quoting, doublequote, escapechar, comment, encoding, dialect, tupleize_cols, error_bad_lines, warn_bad_lines, delim_whitespace, low_memory, memory_map, float_precision)\u001b[0m\n\u001b[0;32m    700\u001b[0m                     skip_blank_lines=skip_blank_lines)\n\u001b[0;32m    701\u001b[0m \u001b[1;33m\u001b[0m\u001b[0m\n\u001b[1;32m--> 702\u001b[1;33m         \u001b[1;32mreturn\u001b[0m \u001b[0m_read\u001b[0m\u001b[1;33m(\u001b[0m\u001b[0mfilepath_or_buffer\u001b[0m\u001b[1;33m,\u001b[0m \u001b[0mkwds\u001b[0m\u001b[1;33m)\u001b[0m\u001b[1;33m\u001b[0m\u001b[1;33m\u001b[0m\u001b[0m\n\u001b[0m\u001b[0;32m    703\u001b[0m \u001b[1;33m\u001b[0m\u001b[0m\n\u001b[0;32m    704\u001b[0m     \u001b[0mparser_f\u001b[0m\u001b[1;33m.\u001b[0m\u001b[0m__name__\u001b[0m \u001b[1;33m=\u001b[0m \u001b[0mname\u001b[0m\u001b[1;33m\u001b[0m\u001b[1;33m\u001b[0m\u001b[0m\n",
      "\u001b[1;32m~\\AppData\\Local\\Continuum\\anaconda3\\lib\\site-packages\\pandas\\io\\parsers.py\u001b[0m in \u001b[0;36m_read\u001b[1;34m(filepath_or_buffer, kwds)\u001b[0m\n\u001b[0;32m    427\u001b[0m \u001b[1;33m\u001b[0m\u001b[0m\n\u001b[0;32m    428\u001b[0m     \u001b[1;31m# Create the parser.\u001b[0m\u001b[1;33m\u001b[0m\u001b[1;33m\u001b[0m\u001b[1;33m\u001b[0m\u001b[0m\n\u001b[1;32m--> 429\u001b[1;33m     \u001b[0mparser\u001b[0m \u001b[1;33m=\u001b[0m \u001b[0mTextFileReader\u001b[0m\u001b[1;33m(\u001b[0m\u001b[0mfilepath_or_buffer\u001b[0m\u001b[1;33m,\u001b[0m \u001b[1;33m**\u001b[0m\u001b[0mkwds\u001b[0m\u001b[1;33m)\u001b[0m\u001b[1;33m\u001b[0m\u001b[1;33m\u001b[0m\u001b[0m\n\u001b[0m\u001b[0;32m    430\u001b[0m \u001b[1;33m\u001b[0m\u001b[0m\n\u001b[0;32m    431\u001b[0m     \u001b[1;32mif\u001b[0m \u001b[0mchunksize\u001b[0m \u001b[1;32mor\u001b[0m \u001b[0miterator\u001b[0m\u001b[1;33m:\u001b[0m\u001b[1;33m\u001b[0m\u001b[1;33m\u001b[0m\u001b[0m\n",
      "\u001b[1;32m~\\AppData\\Local\\Continuum\\anaconda3\\lib\\site-packages\\pandas\\io\\parsers.py\u001b[0m in \u001b[0;36m__init__\u001b[1;34m(self, f, engine, **kwds)\u001b[0m\n\u001b[0;32m    893\u001b[0m             \u001b[0mself\u001b[0m\u001b[1;33m.\u001b[0m\u001b[0moptions\u001b[0m\u001b[1;33m[\u001b[0m\u001b[1;34m'has_index_names'\u001b[0m\u001b[1;33m]\u001b[0m \u001b[1;33m=\u001b[0m \u001b[0mkwds\u001b[0m\u001b[1;33m[\u001b[0m\u001b[1;34m'has_index_names'\u001b[0m\u001b[1;33m]\u001b[0m\u001b[1;33m\u001b[0m\u001b[1;33m\u001b[0m\u001b[0m\n\u001b[0;32m    894\u001b[0m \u001b[1;33m\u001b[0m\u001b[0m\n\u001b[1;32m--> 895\u001b[1;33m         \u001b[0mself\u001b[0m\u001b[1;33m.\u001b[0m\u001b[0m_make_engine\u001b[0m\u001b[1;33m(\u001b[0m\u001b[0mself\u001b[0m\u001b[1;33m.\u001b[0m\u001b[0mengine\u001b[0m\u001b[1;33m)\u001b[0m\u001b[1;33m\u001b[0m\u001b[1;33m\u001b[0m\u001b[0m\n\u001b[0m\u001b[0;32m    896\u001b[0m \u001b[1;33m\u001b[0m\u001b[0m\n\u001b[0;32m    897\u001b[0m     \u001b[1;32mdef\u001b[0m \u001b[0mclose\u001b[0m\u001b[1;33m(\u001b[0m\u001b[0mself\u001b[0m\u001b[1;33m)\u001b[0m\u001b[1;33m:\u001b[0m\u001b[1;33m\u001b[0m\u001b[1;33m\u001b[0m\u001b[0m\n",
      "\u001b[1;32m~\\AppData\\Local\\Continuum\\anaconda3\\lib\\site-packages\\pandas\\io\\parsers.py\u001b[0m in \u001b[0;36m_make_engine\u001b[1;34m(self, engine)\u001b[0m\n\u001b[0;32m   1120\u001b[0m     \u001b[1;32mdef\u001b[0m \u001b[0m_make_engine\u001b[0m\u001b[1;33m(\u001b[0m\u001b[0mself\u001b[0m\u001b[1;33m,\u001b[0m \u001b[0mengine\u001b[0m\u001b[1;33m=\u001b[0m\u001b[1;34m'c'\u001b[0m\u001b[1;33m)\u001b[0m\u001b[1;33m:\u001b[0m\u001b[1;33m\u001b[0m\u001b[1;33m\u001b[0m\u001b[0m\n\u001b[0;32m   1121\u001b[0m         \u001b[1;32mif\u001b[0m \u001b[0mengine\u001b[0m \u001b[1;33m==\u001b[0m \u001b[1;34m'c'\u001b[0m\u001b[1;33m:\u001b[0m\u001b[1;33m\u001b[0m\u001b[1;33m\u001b[0m\u001b[0m\n\u001b[1;32m-> 1122\u001b[1;33m             \u001b[0mself\u001b[0m\u001b[1;33m.\u001b[0m\u001b[0m_engine\u001b[0m \u001b[1;33m=\u001b[0m \u001b[0mCParserWrapper\u001b[0m\u001b[1;33m(\u001b[0m\u001b[0mself\u001b[0m\u001b[1;33m.\u001b[0m\u001b[0mf\u001b[0m\u001b[1;33m,\u001b[0m \u001b[1;33m**\u001b[0m\u001b[0mself\u001b[0m\u001b[1;33m.\u001b[0m\u001b[0moptions\u001b[0m\u001b[1;33m)\u001b[0m\u001b[1;33m\u001b[0m\u001b[1;33m\u001b[0m\u001b[0m\n\u001b[0m\u001b[0;32m   1123\u001b[0m         \u001b[1;32melse\u001b[0m\u001b[1;33m:\u001b[0m\u001b[1;33m\u001b[0m\u001b[1;33m\u001b[0m\u001b[0m\n\u001b[0;32m   1124\u001b[0m             \u001b[1;32mif\u001b[0m \u001b[0mengine\u001b[0m \u001b[1;33m==\u001b[0m \u001b[1;34m'python'\u001b[0m\u001b[1;33m:\u001b[0m\u001b[1;33m\u001b[0m\u001b[1;33m\u001b[0m\u001b[0m\n",
      "\u001b[1;32m~\\AppData\\Local\\Continuum\\anaconda3\\lib\\site-packages\\pandas\\io\\parsers.py\u001b[0m in \u001b[0;36m__init__\u001b[1;34m(self, src, **kwds)\u001b[0m\n\u001b[0;32m   1851\u001b[0m         \u001b[0mkwds\u001b[0m\u001b[1;33m[\u001b[0m\u001b[1;34m'usecols'\u001b[0m\u001b[1;33m]\u001b[0m \u001b[1;33m=\u001b[0m \u001b[0mself\u001b[0m\u001b[1;33m.\u001b[0m\u001b[0musecols\u001b[0m\u001b[1;33m\u001b[0m\u001b[1;33m\u001b[0m\u001b[0m\n\u001b[0;32m   1852\u001b[0m \u001b[1;33m\u001b[0m\u001b[0m\n\u001b[1;32m-> 1853\u001b[1;33m         \u001b[0mself\u001b[0m\u001b[1;33m.\u001b[0m\u001b[0m_reader\u001b[0m \u001b[1;33m=\u001b[0m \u001b[0mparsers\u001b[0m\u001b[1;33m.\u001b[0m\u001b[0mTextReader\u001b[0m\u001b[1;33m(\u001b[0m\u001b[0msrc\u001b[0m\u001b[1;33m,\u001b[0m \u001b[1;33m**\u001b[0m\u001b[0mkwds\u001b[0m\u001b[1;33m)\u001b[0m\u001b[1;33m\u001b[0m\u001b[1;33m\u001b[0m\u001b[0m\n\u001b[0m\u001b[0;32m   1854\u001b[0m         \u001b[0mself\u001b[0m\u001b[1;33m.\u001b[0m\u001b[0munnamed_cols\u001b[0m \u001b[1;33m=\u001b[0m \u001b[0mself\u001b[0m\u001b[1;33m.\u001b[0m\u001b[0m_reader\u001b[0m\u001b[1;33m.\u001b[0m\u001b[0munnamed_cols\u001b[0m\u001b[1;33m\u001b[0m\u001b[1;33m\u001b[0m\u001b[0m\n\u001b[0;32m   1855\u001b[0m \u001b[1;33m\u001b[0m\u001b[0m\n",
      "\u001b[1;32mpandas/_libs/parsers.pyx\u001b[0m in \u001b[0;36mpandas._libs.parsers.TextReader.__cinit__\u001b[1;34m()\u001b[0m\n",
      "\u001b[1;32mpandas/_libs/parsers.pyx\u001b[0m in \u001b[0;36mpandas._libs.parsers.TextReader._setup_parser_source\u001b[1;34m()\u001b[0m\n",
      "\u001b[1;31mFileNotFoundError\u001b[0m: [Errno 2] File b'C:/Users/fic/Documents/IMDb Datasettitle.principals.tsv/title.principals.tsv' does not exist: b'C:/Users/fic/Documents/IMDb Datasettitle.principals.tsv/title.principals.tsv'"
     ]
    }
   ],
   "source": [
    "titles_principal = pd.read_csv('C:/Users/fic/Documents/IMDb Datasettitle.principals.tsv/title.principals.tsv', sep = \"\\t\")\n"
   ]
  },
  {
   "cell_type": "code",
   "execution_count": 79,
   "metadata": {},
   "outputs": [],
   "source": [
    "titles_rating = pd.read_csv('C:/Users/fic/Documents/IMDb Dataset/title.ratings.tsv/title.ratings.tsv', sep = \"\\t\")"
   ]
  },
  {
   "cell_type": "code",
   "execution_count": 80,
   "metadata": {},
   "outputs": [],
   "source": [
    "names = names.replace('\\\\N', np.nan)"
   ]
  },
  {
   "cell_type": "code",
   "execution_count": 81,
   "metadata": {},
   "outputs": [],
   "source": [
    "titles = titles.replace('\\\\N', np.nan)"
   ]
  },
  {
   "cell_type": "code",
   "execution_count": 82,
   "metadata": {},
   "outputs": [],
   "source": [
    "titles_basic = titles_basic.replace('\\\\N', np.nan)"
   ]
  },
  {
   "cell_type": "code",
   "execution_count": null,
   "metadata": {},
   "outputs": [],
   "source": []
  },
  {
   "cell_type": "code",
   "execution_count": 83,
   "metadata": {},
   "outputs": [],
   "source": [
    "titles_principal = titles_principal.replace('\\\\N', np.nan)"
   ]
  },
  {
   "cell_type": "code",
   "execution_count": 84,
   "metadata": {},
   "outputs": [],
   "source": [
    "titles_rating = titles_rating.replace('\\\\N', np.nan)"
   ]
  },
  {
   "cell_type": "code",
   "execution_count": null,
   "metadata": {},
   "outputs": [],
   "source": []
  },
  {
   "cell_type": "code",
   "execution_count": 115,
   "metadata": {},
   "outputs": [
    {
     "data": {
      "text/html": [
       "<div>\n",
       "<style scoped>\n",
       "    .dataframe tbody tr th:only-of-type {\n",
       "        vertical-align: middle;\n",
       "    }\n",
       "\n",
       "    .dataframe tbody tr th {\n",
       "        vertical-align: top;\n",
       "    }\n",
       "\n",
       "    .dataframe thead th {\n",
       "        text-align: right;\n",
       "    }\n",
       "</style>\n",
       "<table border=\"1\" class=\"dataframe\">\n",
       "  <thead>\n",
       "    <tr style=\"text-align: right;\">\n",
       "      <th></th>\n",
       "      <th>nconst</th>\n",
       "      <th>primaryName</th>\n",
       "      <th>birthYear</th>\n",
       "      <th>deathYear</th>\n",
       "      <th>primaryProfession</th>\n",
       "      <th>knownForTitles</th>\n",
       "    </tr>\n",
       "  </thead>\n",
       "  <tbody>\n",
       "    <tr>\n",
       "      <th>0</th>\n",
       "      <td>nm0000001</td>\n",
       "      <td>Fred Astaire</td>\n",
       "      <td>1899</td>\n",
       "      <td>1987</td>\n",
       "      <td>soundtrack,actor,miscellaneous</td>\n",
       "      <td>tt0050419,tt0053137,tt0072308,tt0043044</td>\n",
       "    </tr>\n",
       "    <tr>\n",
       "      <th>1</th>\n",
       "      <td>nm0000002</td>\n",
       "      <td>Lauren Bacall</td>\n",
       "      <td>1924</td>\n",
       "      <td>2014</td>\n",
       "      <td>actress,soundtrack</td>\n",
       "      <td>tt0071877,tt0117057,tt0038355,tt0037382</td>\n",
       "    </tr>\n",
       "    <tr>\n",
       "      <th>2</th>\n",
       "      <td>nm0000003</td>\n",
       "      <td>Brigitte Bardot</td>\n",
       "      <td>1934</td>\n",
       "      <td>NaN</td>\n",
       "      <td>actress,soundtrack,producer</td>\n",
       "      <td>tt0054452,tt0049189,tt0059956,tt0057345</td>\n",
       "    </tr>\n",
       "    <tr>\n",
       "      <th>3</th>\n",
       "      <td>nm0000004</td>\n",
       "      <td>John Belushi</td>\n",
       "      <td>1949</td>\n",
       "      <td>1982</td>\n",
       "      <td>actor,writer,soundtrack</td>\n",
       "      <td>tt0077975,tt0072562,tt0080455,tt0078723</td>\n",
       "    </tr>\n",
       "    <tr>\n",
       "      <th>4</th>\n",
       "      <td>nm0000005</td>\n",
       "      <td>Ingmar Bergman</td>\n",
       "      <td>1918</td>\n",
       "      <td>2007</td>\n",
       "      <td>writer,director,actor</td>\n",
       "      <td>tt0069467,tt0050976,tt0083922,tt0050986</td>\n",
       "    </tr>\n",
       "  </tbody>\n",
       "</table>\n",
       "</div>"
      ],
      "text/plain": [
       "      nconst      primaryName birthYear deathYear  \\\n",
       "0  nm0000001     Fred Astaire      1899      1987   \n",
       "1  nm0000002    Lauren Bacall      1924      2014   \n",
       "2  nm0000003  Brigitte Bardot      1934       NaN   \n",
       "3  nm0000004     John Belushi      1949      1982   \n",
       "4  nm0000005   Ingmar Bergman      1918      2007   \n",
       "\n",
       "                primaryProfession                           knownForTitles  \n",
       "0  soundtrack,actor,miscellaneous  tt0050419,tt0053137,tt0072308,tt0043044  \n",
       "1              actress,soundtrack  tt0071877,tt0117057,tt0038355,tt0037382  \n",
       "2     actress,soundtrack,producer  tt0054452,tt0049189,tt0059956,tt0057345  \n",
       "3         actor,writer,soundtrack  tt0077975,tt0072562,tt0080455,tt0078723  \n",
       "4           writer,director,actor  tt0069467,tt0050976,tt0083922,tt0050986  "
      ]
     },
     "execution_count": 115,
     "metadata": {},
     "output_type": "execute_result"
    }
   ],
   "source": [
    "names.head()"
   ]
  },
  {
   "cell_type": "code",
   "execution_count": 123,
   "metadata": {},
   "outputs": [
    {
     "data": {
      "text/plain": [
       "nconst               9706922\n",
       "primaryName          9706922\n",
       "birthYear             491281\n",
       "deathYear             172005\n",
       "primaryProfession    7775897\n",
       "knownForTitles       8017326\n",
       "dtype: int64"
      ]
     },
     "execution_count": 123,
     "metadata": {},
     "output_type": "execute_result"
    }
   ],
   "source": [
    "names.count()"
   ]
  },
  {
   "cell_type": "code",
   "execution_count": 124,
   "metadata": {},
   "outputs": [
    {
     "data": {
      "text/plain": [
       "array(['Fred Astaire', 'Lauren Bacall', 'Brigitte Bardot', ...,\n",
       "       'Essias Loberg', 'Harikrishnan Rajan', 'Aayush Nair'], dtype=object)"
      ]
     },
     "execution_count": 124,
     "metadata": {},
     "output_type": "execute_result"
    }
   ],
   "source": [
    "names['primaryName'].unique()"
   ]
  },
  {
   "cell_type": "code",
   "execution_count": 125,
   "metadata": {},
   "outputs": [
    {
     "data": {
      "text/plain": [
       "array(['soundtrack,actor,miscellaneous', 'actress,soundtrack',\n",
       "       'actress,soundtrack,producer', ...,\n",
       "       'casting_department,art_department,costume_designer',\n",
       "       'publicist,production_designer',\n",
       "       'producer,casting_department,assistant'], dtype=object)"
      ]
     },
     "execution_count": 125,
     "metadata": {},
     "output_type": "execute_result"
    }
   ],
   "source": [
    "names['Ano Falecimento'].unique()"
   ]
  },
  {
   "cell_type": "code",
   "execution_count": 134,
   "metadata": {},
   "outputs": [
    {
     "data": {
      "text/plain": [
       "array(['tt0050419,tt0053137,tt0072308,tt0043044',\n",
       "       'tt0071877,tt0117057,tt0038355,tt0037382',\n",
       "       'tt0054452,tt0049189,tt0059956,tt0057345', ...,\n",
       "       'tt8744286,tt9046122', 'tt8744286', 'tt8325250'], dtype=object)"
      ]
     },
     "execution_count": 134,
     "metadata": {},
     "output_type": "execute_result"
    }
   ],
   "source": [
    "names['knownForTitles'].unique()"
   ]
  },
  {
   "cell_type": "code",
   "execution_count": 140,
   "metadata": {},
   "outputs": [],
   "source": [
    "names.columns = ['nconst','primeiro_nome','ano_nascimento','ano_falecimento','profissao_primaria','knownForTitles']\n"
   ]
  },
  {
   "cell_type": "code",
   "execution_count": 141,
   "metadata": {},
   "outputs": [
    {
     "data": {
      "text/html": [
       "<div>\n",
       "<style scoped>\n",
       "    .dataframe tbody tr th:only-of-type {\n",
       "        vertical-align: middle;\n",
       "    }\n",
       "\n",
       "    .dataframe tbody tr th {\n",
       "        vertical-align: top;\n",
       "    }\n",
       "\n",
       "    .dataframe thead th {\n",
       "        text-align: right;\n",
       "    }\n",
       "</style>\n",
       "<table border=\"1\" class=\"dataframe\">\n",
       "  <thead>\n",
       "    <tr style=\"text-align: right;\">\n",
       "      <th></th>\n",
       "      <th>nconst</th>\n",
       "      <th>primeiro_nome</th>\n",
       "      <th>ano_nascimento</th>\n",
       "      <th>ano_falecimento</th>\n",
       "      <th>profissao_primaria</th>\n",
       "      <th>knownForTitles</th>\n",
       "    </tr>\n",
       "  </thead>\n",
       "  <tbody>\n",
       "    <tr>\n",
       "      <th>0</th>\n",
       "      <td>nm0000001</td>\n",
       "      <td>Fred Astaire</td>\n",
       "      <td>1899</td>\n",
       "      <td>1987</td>\n",
       "      <td>soundtrack,actor,miscellaneous</td>\n",
       "      <td>tt0050419,tt0053137,tt0072308,tt0043044</td>\n",
       "    </tr>\n",
       "    <tr>\n",
       "      <th>1</th>\n",
       "      <td>nm0000002</td>\n",
       "      <td>Lauren Bacall</td>\n",
       "      <td>1924</td>\n",
       "      <td>2014</td>\n",
       "      <td>actress,soundtrack</td>\n",
       "      <td>tt0071877,tt0117057,tt0038355,tt0037382</td>\n",
       "    </tr>\n",
       "    <tr>\n",
       "      <th>2</th>\n",
       "      <td>nm0000003</td>\n",
       "      <td>Brigitte Bardot</td>\n",
       "      <td>1934</td>\n",
       "      <td>NaN</td>\n",
       "      <td>actress,soundtrack,producer</td>\n",
       "      <td>tt0054452,tt0049189,tt0059956,tt0057345</td>\n",
       "    </tr>\n",
       "    <tr>\n",
       "      <th>3</th>\n",
       "      <td>nm0000004</td>\n",
       "      <td>John Belushi</td>\n",
       "      <td>1949</td>\n",
       "      <td>1982</td>\n",
       "      <td>actor,writer,soundtrack</td>\n",
       "      <td>tt0077975,tt0072562,tt0080455,tt0078723</td>\n",
       "    </tr>\n",
       "    <tr>\n",
       "      <th>4</th>\n",
       "      <td>nm0000005</td>\n",
       "      <td>Ingmar Bergman</td>\n",
       "      <td>1918</td>\n",
       "      <td>2007</td>\n",
       "      <td>writer,director,actor</td>\n",
       "      <td>tt0069467,tt0050976,tt0083922,tt0050986</td>\n",
       "    </tr>\n",
       "  </tbody>\n",
       "</table>\n",
       "</div>"
      ],
      "text/plain": [
       "      nconst    primeiro_nome ano_nascimento ano_falecimento  \\\n",
       "0  nm0000001     Fred Astaire           1899            1987   \n",
       "1  nm0000002    Lauren Bacall           1924            2014   \n",
       "2  nm0000003  Brigitte Bardot           1934             NaN   \n",
       "3  nm0000004     John Belushi           1949            1982   \n",
       "4  nm0000005   Ingmar Bergman           1918            2007   \n",
       "\n",
       "               profissao_primaria                           knownForTitles  \n",
       "0  soundtrack,actor,miscellaneous  tt0050419,tt0053137,tt0072308,tt0043044  \n",
       "1              actress,soundtrack  tt0071877,tt0117057,tt0038355,tt0037382  \n",
       "2     actress,soundtrack,producer  tt0054452,tt0049189,tt0059956,tt0057345  \n",
       "3         actor,writer,soundtrack  tt0077975,tt0072562,tt0080455,tt0078723  \n",
       "4           writer,director,actor  tt0069467,tt0050976,tt0083922,tt0050986  "
      ]
     },
     "execution_count": 141,
     "metadata": {},
     "output_type": "execute_result"
    }
   ],
   "source": [
    "names.head()"
   ]
  },
  {
   "cell_type": "code",
   "execution_count": null,
   "metadata": {},
   "outputs": [],
   "source": []
  },
  {
   "cell_type": "code",
   "execution_count": 86,
   "metadata": {},
   "outputs": [
    {
     "data": {
      "text/html": [
       "<div>\n",
       "<style scoped>\n",
       "    .dataframe tbody tr th:only-of-type {\n",
       "        vertical-align: middle;\n",
       "    }\n",
       "\n",
       "    .dataframe tbody tr th {\n",
       "        vertical-align: top;\n",
       "    }\n",
       "\n",
       "    .dataframe thead th {\n",
       "        text-align: right;\n",
       "    }\n",
       "</style>\n",
       "<table border=\"1\" class=\"dataframe\">\n",
       "  <thead>\n",
       "    <tr style=\"text-align: right;\">\n",
       "      <th></th>\n",
       "      <th>titleId</th>\n",
       "      <th>ordering</th>\n",
       "      <th>title</th>\n",
       "      <th>region</th>\n",
       "      <th>language</th>\n",
       "      <th>types</th>\n",
       "      <th>attributes</th>\n",
       "      <th>isOriginalTitle</th>\n",
       "    </tr>\n",
       "  </thead>\n",
       "  <tbody>\n",
       "    <tr>\n",
       "      <th>0</th>\n",
       "      <td>tt0000001</td>\n",
       "      <td>1</td>\n",
       "      <td>Carmencita - spanyol tánc</td>\n",
       "      <td>HU</td>\n",
       "      <td>NaN</td>\n",
       "      <td>imdbDisplay</td>\n",
       "      <td>NaN</td>\n",
       "      <td>0</td>\n",
       "    </tr>\n",
       "    <tr>\n",
       "      <th>1</th>\n",
       "      <td>tt0000001</td>\n",
       "      <td>2</td>\n",
       "      <td>Καρμενσίτα</td>\n",
       "      <td>GR</td>\n",
       "      <td>NaN</td>\n",
       "      <td>NaN</td>\n",
       "      <td>NaN</td>\n",
       "      <td>0</td>\n",
       "    </tr>\n",
       "    <tr>\n",
       "      <th>2</th>\n",
       "      <td>tt0000001</td>\n",
       "      <td>3</td>\n",
       "      <td>Карменсита</td>\n",
       "      <td>RU</td>\n",
       "      <td>NaN</td>\n",
       "      <td>NaN</td>\n",
       "      <td>NaN</td>\n",
       "      <td>0</td>\n",
       "    </tr>\n",
       "    <tr>\n",
       "      <th>3</th>\n",
       "      <td>tt0000001</td>\n",
       "      <td>4</td>\n",
       "      <td>Carmencita</td>\n",
       "      <td>US</td>\n",
       "      <td>NaN</td>\n",
       "      <td>NaN</td>\n",
       "      <td>NaN</td>\n",
       "      <td>0</td>\n",
       "    </tr>\n",
       "    <tr>\n",
       "      <th>4</th>\n",
       "      <td>tt0000001</td>\n",
       "      <td>5</td>\n",
       "      <td>Carmencita</td>\n",
       "      <td>NaN</td>\n",
       "      <td>NaN</td>\n",
       "      <td>original</td>\n",
       "      <td>NaN</td>\n",
       "      <td>1</td>\n",
       "    </tr>\n",
       "  </tbody>\n",
       "</table>\n",
       "</div>"
      ],
      "text/plain": [
       "     titleId  ordering                      title region language  \\\n",
       "0  tt0000001         1  Carmencita - spanyol tánc     HU      NaN   \n",
       "1  tt0000001         2                 Καρμενσίτα     GR      NaN   \n",
       "2  tt0000001         3                 Карменсита     RU      NaN   \n",
       "3  tt0000001         4                 Carmencita     US      NaN   \n",
       "4  tt0000001         5                 Carmencita    NaN      NaN   \n",
       "\n",
       "         types attributes isOriginalTitle  \n",
       "0  imdbDisplay        NaN               0  \n",
       "1          NaN        NaN               0  \n",
       "2          NaN        NaN               0  \n",
       "3          NaN        NaN               0  \n",
       "4     original        NaN               1  "
      ]
     },
     "execution_count": 86,
     "metadata": {},
     "output_type": "execute_result"
    }
   ],
   "source": [
    "titles.head()"
   ]
  },
  {
   "cell_type": "code",
   "execution_count": 127,
   "metadata": {},
   "outputs": [
    {
     "data": {
      "text/plain": [
       "titleId            19322610\n",
       "ordering           19322610\n",
       "title              19322610\n",
       "region             18861073\n",
       "language           16126439\n",
       "types               1093713\n",
       "attributes           180679\n",
       "isOriginalTitle    19320480\n",
       "dtype: int64"
      ]
     },
     "execution_count": 127,
     "metadata": {},
     "output_type": "execute_result"
    }
   ],
   "source": [
    "titles.count()"
   ]
  },
  {
   "cell_type": "code",
   "execution_count": 128,
   "metadata": {},
   "outputs": [
    {
     "data": {
      "text/plain": [
       "array(['Carmencita - spanyol tánc', 'Καρμενσίτα', 'Карменсита', ...,\n",
       "       'Rahibe 2', 'The Possessed Nun', 'The Demonic Nun'], dtype=object)"
      ]
     },
     "execution_count": 128,
     "metadata": {},
     "output_type": "execute_result"
    }
   ],
   "source": [
    "titles['title'].unique()"
   ]
  },
  {
   "cell_type": "code",
   "execution_count": 129,
   "metadata": {},
   "outputs": [
    {
     "data": {
      "text/plain": [
       "array(['HU', 'GR', 'RU', 'US', nan, 'FR', 'RO', 'GB', 'PT', 'ES', 'UY',\n",
       "       'DE', 'IT', 'FI', 'RS', 'PL', 'AR', 'BR', 'XWW', 'TR', 'DK', 'XEU',\n",
       "       'SK', 'CZ', 'SE', 'MX', 'XYU', 'AT', 'VE', 'CSHH', 'SI', 'JP',\n",
       "       'AU', 'NL', 'NO', 'IR', 'UA', 'CA', 'CO', 'BG', 'BE', 'IN', 'DZ',\n",
       "       'CH', 'NZ', 'BF', 'XWG', 'VN', 'SUHH', 'EE', 'IS', 'DDDE', 'HR',\n",
       "       'XKO', 'CL', 'LT', 'EG', 'HK', 'BY', 'GE', 'BA', 'PE', 'PA', 'CN',\n",
       "       'XSI', 'YUCS', 'IE', 'XSA', 'IL', 'CU', 'AL', 'BO', 'ZA', 'KR',\n",
       "       'MY', 'SG', 'BUMM', 'XPI', 'BJ', 'PR', 'CM', 'AZ', 'TH', 'DO',\n",
       "       'EC', 'LV', 'MA', 'GL', 'LI', 'LU', 'PH', 'ID', 'PY', 'MZ', 'BM',\n",
       "       'TW', 'JM', 'MD', 'LB', 'IQ', 'TM', 'MK', 'CR', 'TN', 'NG', 'HT',\n",
       "       'SN', 'GH', 'CI', 'JO', 'KG', 'PK', 'LK', 'GT', 'TJ', 'NE', 'GN',\n",
       "       'VDVN', 'TD', 'SO', 'SD', 'MC', 'CG', 'TT', 'GA', 'BS', 'LY', 'SY',\n",
       "       'AO', 'KH', 'SV', 'MR', 'AF', 'MG', 'ML', 'GY', 'CY', 'ET', 'XAS',\n",
       "       'UZ', 'SR', 'MT', 'AM', 'TG', 'PG', 'MU', 'BI', 'CF', 'NI', 'ZW',\n",
       "       'ZM', 'GW', 'DJ', 'KP', 'KZ', 'RW', 'TZ', 'GI', 'LA', 'SC', 'BD',\n",
       "       'MN', 'AW', 'NP', 'MO', 'KW', 'CV', 'GP', 'SL', 'SM', 'CD', 'CSXX',\n",
       "       'TO', 'BT', 'LS', 'HN', 'KE', 'PS', 'MQ', 'AD', 'SA', 'ZRCD', 'AE',\n",
       "       'GU', 'ER', 'IM', 'XKV', 'BH', 'BB', 'BZ', 'UG', 'AG', 'NU', 'OM',\n",
       "       'QA', 'BW', 'MM', 'YE', 'GQ', 'ME', 'RE', 'KY', 'FO', 'MV', 'FJ',\n",
       "       'NC', 'SZ', 'LC', 'MH', 'VI', 'VC', 'DM', 'AN', 'XNA', 'MW', 'GF',\n",
       "       'GM', 'LR', 'EH', 'VU', 'SH', 'MS', 'TV', 'WS', 'BN', 'PF', 'XAU',\n",
       "       'CK', 'VA', 'TL', 'KM', 'AQ', 'PW', 'NR', 'GD', 'KN', 'AS', 'ST',\n",
       "       'SB', 'JE', 'MP', 'VG', 'KI', 'WF', 'AI'], dtype=object)"
      ]
     },
     "execution_count": 129,
     "metadata": {},
     "output_type": "execute_result"
    }
   ],
   "source": [
    "titles['region'].unique()"
   ]
  },
  {
   "cell_type": "code",
   "execution_count": 130,
   "metadata": {},
   "outputs": [
    {
     "data": {
      "text/plain": [
       "array([nan, 'sv', 'en', 'tr', 'es', 'sr', 'cs', 'fa', 'fr', 'bg', 'ca',\n",
       "       'nl', 'qbn', 'pt', 'ru', 'qbp', 'ar', 'cmn', 'rn', 'bs', 'de',\n",
       "       'hi', 'yi', 'qbo', 'uk', 'ka', 'hr', 'sl', 'he', 'tg', 'sk', 'kk',\n",
       "       'el', 'fi', 'it', 'da', 'gsw', 'az', 'ms', 'pl', 'mr', 'uz', 'gl',\n",
       "       'th', 'ta', 'eu', 'yue', 'af', 'la', 'hy', 'ur', 'bn', 'te', 'be',\n",
       "       'lt', 'mk', 'et', 'gd', 'tl', 'lv', 'cy', 'id', 'qal', 'goh', 'ml',\n",
       "       'ro', 'ja', 'hu', 'pa', 'no', 'is', 'sq', 'vi', 'ga', 'gu', 'ps',\n",
       "       'nqo', 'sd', 'kn', 'xh', 'mi', 'wo', 'zu', 'rm', 'prs', 'ky',\n",
       "       'fro', 'mn', 'lo', 'my', 'zh', 'am', 'qac', 'ku', 'ne', 'ko',\n",
       "       'haw', 'myv', 'iu', 'st', 'tn', 'cr'], dtype=object)"
      ]
     },
     "execution_count": 130,
     "metadata": {},
     "output_type": "execute_result"
    }
   ],
   "source": [
    "titles['language'].unique()"
   ]
  },
  {
   "cell_type": "code",
   "execution_count": 131,
   "metadata": {},
   "outputs": [
    {
     "data": {
      "text/plain": [
       "array(['imdbDisplay', nan, 'original', 'alternative', 'dvd', 'festival',\n",
       "       'working', 'tv', 'video', 'tv\\x02working', 'tv\\x02video',\n",
       "       'video\\x02working', 'festival\\x02working', 'dvd\\x02video',\n",
       "       'dvd\\x02imdbDisplay', 'dvd\\x02working'], dtype=object)"
      ]
     },
     "execution_count": 131,
     "metadata": {},
     "output_type": "execute_result"
    }
   ],
   "source": [
    "titles['types'].unique()"
   ]
  },
  {
   "cell_type": "code",
   "execution_count": 132,
   "metadata": {},
   "outputs": [
    {
     "data": {
      "text/plain": [
       "array([nan, 'literal English title', 'informal alternative title',\n",
       "       'promotional title', 'complete title', 'poster title',\n",
       "       'literal translation of working title', 'premiere title',\n",
       "       'informal title', 'short title', 'première title',\n",
       "       'bowdlerized title', 'reissue title', 'informal English title',\n",
       "       'alternative spelling', 'original script title',\n",
       "       'informal literal title', 'copyright title', 'long title',\n",
       "       'literal title', 'transliterated ISO-LATIN-1 title',\n",
       "       'informal short title', 'review title', 'new title', 'subtitle',\n",
       "       'original subtitled version', 'cut version',\n",
       "       'video catalogue title', 'second part title',\n",
       "       'fourth season title', 'third part title', 'fifth season title',\n",
       "       'series title', 'recut version', 'pre-release title',\n",
       "       'theatrical title', 'first part title',\n",
       "       'informal literal English title', '8mm release title',\n",
       "       'Los Angeles première title', 'DVD box title',\n",
       "       'second copyright title', '16mm release title', 'short version',\n",
       "       'video box title', 'rerun title', 'restored version',\n",
       "       'english transliteration', 'recut version\\x02reissue title',\n",
       "       '8mm release title\\x02short version',\n",
       "       'alternative transliteration', 'trailer title', 'censored version',\n",
       "       'DVD menu title', 'silent version', 'Berlin film festival title',\n",
       "       'Cannes festival title', 'dubbed version',\n",
       "       'added framing sequences and narration in Yiddish\\x02reissue title',\n",
       "       'segment title', 'bootleg title', 'orthographically correct title',\n",
       "       'Bable dialect title', 'Venice film festival title',\n",
       "       'Yiddish dubbed\\x02reissue title', 'cable TV title',\n",
       "       'uncensored intended title', 'last season title', 'Yiddish dubbed',\n",
       "       'TV listings title', 'YIVO translation', 'anthology series',\n",
       "       'modern translation', 'first episode title', 'long new title',\n",
       "       \"director's cut\", 'POLart\\x02video box title', 'POLart',\n",
       "       'YIVO translation\\x02reissue title',\n",
       "       'cut version\\x02reissue title', 'racier version',\n",
       "       'redubbed comic version', 'X-rated version',\n",
       "       'copyright title\\x02reissue title', 'syndication title',\n",
       "       'fake working title', 'closing credits title',\n",
       "       'armed forces circuit title', 'reissue title\\x02short version',\n",
       "       'weekend title', 'first season title', 'summer title',\n",
       "       'longer version', 'second season title', 'sixth season title',\n",
       "       'first two episodes title', 'first episodes title',\n",
       "       'first three episodes title', 'Pay-TV title', 'tenth season title',\n",
       "       '3-D version', 'MIFED title', '3-D video title',\n",
       "       'literal French title', 'third and fourth season title',\n",
       "       'new syndication title', 'ninth season title',\n",
       "       'eighth season title', 'expansion title',\n",
       "       'correct transliteration', '16mm rental title',\n",
       "       'fourteenth season title', 'teaser title', 'daytime version title',\n",
       "       'seventh season title', 'third season title', 'video CD title',\n",
       "       'LD title', 'promotional abbreviation', 'ISO-LATIN-1 title',\n",
       "       'soft porn version', 'unauthorized video title',\n",
       "       'cut version\\x02video box title',\n",
       "       'racier version\\x02reissue title',\n",
       "       '8mm release title\\x02second part title',\n",
       "       'English translation of working title', 'fifteenth season title',\n",
       "       'twentyfifth season title', 'twentieth season title',\n",
       "       'fourth part title', 'thirtysecond season title',\n",
       "       'informal title\\x02literal title', 'cable TV title\\x02cut version',\n",
       "       'closing credits title\\x02pre-release title', 'IMAX version',\n",
       "       'non-modified Hepburn romanization', 'Locarno film festival title',\n",
       "       'Los Angeles premiere title', 'eleventh season title',\n",
       "       'first four episodes title',\n",
       "       'approximation of original mirrored title', 'twelfth season title',\n",
       "       'DVD box title\\x02promotional abbreviation',\n",
       "       'IMAX version\\x02promotional title',\n",
       "       'title for episodes with guest hosts', 'thirtieth season title',\n",
       "       'sixteenth season title', 'twentyseventh season title',\n",
       "       'nineteenth season title', 'twentyfourth season title',\n",
       "       'twentysixth season title', 'twentysecond season title',\n",
       "       'twentythird season title', 'twentyfirst season title',\n",
       "       'game box title', 'X-rated version\\x02bootleg title',\n",
       "       'poster title\\x02video box title', 'eighteenth season title',\n",
       "       'thirteenth season title', 'seventeenth season title',\n",
       "       'dubbed version\\x02recut version', 'thirtythird season title',\n",
       "       'twentyninth season title', 'thirtyfirst season title',\n",
       "       'American Mutoscope & Biograph catalog title', 'R-rated version',\n",
       "       'original pilot title', 'thirtysixth season title',\n",
       "       'thirtyseventh season title', 'thirtyfourth season title',\n",
       "       'twentyeighth season title', 'thirtyninth season title',\n",
       "       'thirtyeighth season title', 'thirtyfifth season title',\n",
       "       'Hakka dialect title', 'Bilbao festival title',\n",
       "       'promotional title\\x02thirteenth season title',\n",
       "       'orthographically correct title\\x02video box title',\n",
       "       'late Sunday edition', 'PC version',\n",
       "       'fourth season title\\x02recut version', 'GameCube version',\n",
       "       'third segment title', 'first segment title',\n",
       "       'second segment title', 'fifth part title', 'videogame episode',\n",
       "       'incorrect title', 'rumored'], dtype=object)"
      ]
     },
     "execution_count": 132,
     "metadata": {},
     "output_type": "execute_result"
    }
   ],
   "source": [
    "titles['attributes'].unique()"
   ]
  },
  {
   "cell_type": "code",
   "execution_count": 133,
   "metadata": {},
   "outputs": [
    {
     "data": {
      "text/plain": [
       "array([0, 1, '0', '1', nan], dtype=object)"
      ]
     },
     "execution_count": 133,
     "metadata": {},
     "output_type": "execute_result"
    }
   ],
   "source": [
    "titles['isOriginalTitle'].unique()"
   ]
  },
  {
   "cell_type": "code",
   "execution_count": null,
   "metadata": {},
   "outputs": [],
   "source": []
  },
  {
   "cell_type": "code",
   "execution_count": 87,
   "metadata": {},
   "outputs": [
    {
     "data": {
      "text/html": [
       "<div>\n",
       "<style scoped>\n",
       "    .dataframe tbody tr th:only-of-type {\n",
       "        vertical-align: middle;\n",
       "    }\n",
       "\n",
       "    .dataframe tbody tr th {\n",
       "        vertical-align: top;\n",
       "    }\n",
       "\n",
       "    .dataframe thead th {\n",
       "        text-align: right;\n",
       "    }\n",
       "</style>\n",
       "<table border=\"1\" class=\"dataframe\">\n",
       "  <thead>\n",
       "    <tr style=\"text-align: right;\">\n",
       "      <th></th>\n",
       "      <th>tconst</th>\n",
       "      <th>titleType</th>\n",
       "      <th>primaryTitle</th>\n",
       "      <th>originalTitle</th>\n",
       "      <th>isAdult</th>\n",
       "      <th>startYear</th>\n",
       "      <th>endYear</th>\n",
       "      <th>runtimeMinutes</th>\n",
       "      <th>genres</th>\n",
       "    </tr>\n",
       "  </thead>\n",
       "  <tbody>\n",
       "    <tr>\n",
       "      <th>0</th>\n",
       "      <td>tt0000001</td>\n",
       "      <td>short</td>\n",
       "      <td>Carmencita</td>\n",
       "      <td>Carmencita</td>\n",
       "      <td>0</td>\n",
       "      <td>1894</td>\n",
       "      <td>NaN</td>\n",
       "      <td>1</td>\n",
       "      <td>Documentary,Short</td>\n",
       "    </tr>\n",
       "    <tr>\n",
       "      <th>1</th>\n",
       "      <td>tt0000002</td>\n",
       "      <td>short</td>\n",
       "      <td>Le clown et ses chiens</td>\n",
       "      <td>Le clown et ses chiens</td>\n",
       "      <td>0</td>\n",
       "      <td>1892</td>\n",
       "      <td>NaN</td>\n",
       "      <td>5</td>\n",
       "      <td>Animation,Short</td>\n",
       "    </tr>\n",
       "    <tr>\n",
       "      <th>2</th>\n",
       "      <td>tt0000003</td>\n",
       "      <td>short</td>\n",
       "      <td>Pauvre Pierrot</td>\n",
       "      <td>Pauvre Pierrot</td>\n",
       "      <td>0</td>\n",
       "      <td>1892</td>\n",
       "      <td>NaN</td>\n",
       "      <td>4</td>\n",
       "      <td>Animation,Comedy,Romance</td>\n",
       "    </tr>\n",
       "    <tr>\n",
       "      <th>3</th>\n",
       "      <td>tt0000004</td>\n",
       "      <td>short</td>\n",
       "      <td>Un bon bock</td>\n",
       "      <td>Un bon bock</td>\n",
       "      <td>0</td>\n",
       "      <td>1892</td>\n",
       "      <td>NaN</td>\n",
       "      <td>NaN</td>\n",
       "      <td>Animation,Short</td>\n",
       "    </tr>\n",
       "    <tr>\n",
       "      <th>4</th>\n",
       "      <td>tt0000005</td>\n",
       "      <td>short</td>\n",
       "      <td>Blacksmith Scene</td>\n",
       "      <td>Blacksmith Scene</td>\n",
       "      <td>0</td>\n",
       "      <td>1893</td>\n",
       "      <td>NaN</td>\n",
       "      <td>1</td>\n",
       "      <td>Comedy,Short</td>\n",
       "    </tr>\n",
       "  </tbody>\n",
       "</table>\n",
       "</div>"
      ],
      "text/plain": [
       "      tconst titleType            primaryTitle           originalTitle  \\\n",
       "0  tt0000001     short              Carmencita              Carmencita   \n",
       "1  tt0000002     short  Le clown et ses chiens  Le clown et ses chiens   \n",
       "2  tt0000003     short          Pauvre Pierrot          Pauvre Pierrot   \n",
       "3  tt0000004     short             Un bon bock             Un bon bock   \n",
       "4  tt0000005     short        Blacksmith Scene        Blacksmith Scene   \n",
       "\n",
       "   isAdult startYear endYear runtimeMinutes                    genres  \n",
       "0        0      1894     NaN              1         Documentary,Short  \n",
       "1        0      1892     NaN              5           Animation,Short  \n",
       "2        0      1892     NaN              4  Animation,Comedy,Romance  \n",
       "3        0      1892     NaN            NaN           Animation,Short  \n",
       "4        0      1893     NaN              1              Comedy,Short  "
      ]
     },
     "execution_count": 87,
     "metadata": {},
     "output_type": "execute_result"
    }
   ],
   "source": [
    "titles_basic.head()"
   ]
  },
  {
   "cell_type": "code",
   "execution_count": 117,
   "metadata": {},
   "outputs": [
    {
     "data": {
      "text/plain": [
       "tconst            6321302\n",
       "titleType         6321302\n",
       "primaryTitle      6321292\n",
       "originalTitle     6321117\n",
       "isAdult           6321302\n",
       "startYear         5951344\n",
       "endYear             54362\n",
       "runtimeMinutes    1865942\n",
       "genres            5819979\n",
       "dtype: int64"
      ]
     },
     "execution_count": 117,
     "metadata": {},
     "output_type": "execute_result"
    }
   ],
   "source": [
    "titles_basic.count()"
   ]
  },
  {
   "cell_type": "code",
   "execution_count": 95,
   "metadata": {},
   "outputs": [
    {
     "data": {
      "text/plain": [
       "array(['short', 'movie', 'tvMovie', 'tvSeries', 'tvEpisode', 'tvShort',\n",
       "       'tvMiniSeries', 'tvSpecial', 'video', 'videoGame'], dtype=object)"
      ]
     },
     "execution_count": 95,
     "metadata": {},
     "output_type": "execute_result"
    }
   ],
   "source": [
    "titles_basic['titleType'].unique()"
   ]
  },
  {
   "cell_type": "code",
   "execution_count": 96,
   "metadata": {},
   "outputs": [
    {
     "data": {
      "text/plain": [
       "array(['Carmencita', 'Le clown et ses chiens', 'Pauvre Pierrot', ...,\n",
       "       'Danira Boukhriss Terkessidis', \"Horrid Henry's Comic Caper\",\n",
       "       'Horrid Henry Knows It All'], dtype=object)"
      ]
     },
     "execution_count": 96,
     "metadata": {},
     "output_type": "execute_result"
    }
   ],
   "source": [
    "titles_basic['primaryTitle'].unique()"
   ]
  },
  {
   "cell_type": "code",
   "execution_count": 97,
   "metadata": {},
   "outputs": [
    {
     "data": {
      "text/plain": [
       "array(['Carmencita', 'Le clown et ses chiens', 'Pauvre Pierrot', ...,\n",
       "       'Danira Boukhriss Terkessidis', \"Horrid Henry's Comic Caper\",\n",
       "       'Horrid Henry Knows It All'], dtype=object)"
      ]
     },
     "execution_count": 97,
     "metadata": {},
     "output_type": "execute_result"
    }
   ],
   "source": [
    "titles_basic['originalTitle'].unique()"
   ]
  },
  {
   "cell_type": "code",
   "execution_count": 98,
   "metadata": {},
   "outputs": [
    {
     "data": {
      "text/plain": [
       "array([   0,    1, 2019, 2004, 2014, 2018, 2015, 1994, 2005], dtype=int64)"
      ]
     },
     "execution_count": 98,
     "metadata": {},
     "output_type": "execute_result"
    }
   ],
   "source": [
    "titles_basic['isAdult'].unique()"
   ]
  },
  {
   "cell_type": "code",
   "execution_count": 99,
   "metadata": {},
   "outputs": [
    {
     "data": {
      "text/plain": [
       "array([1894, 1892, 1893, 1895, 1896, 1898, 1897, 1900, 1899, 1901, 1904,\n",
       "       1903, 1902, 1905, 1912, 1907, 1906, 1908, 1910, 1909, 1914, 1911,\n",
       "       1913, 1915, 1919, 1916, 1917, 1918, 1936, 1925, 1920, 1922, 1921,\n",
       "       1923, 1924, 1928, 1926, 1927, 1929, 1993, 1935, 1930, 1942, 1933,\n",
       "       1934, 1931, 1932, 1939, 1937, 1950, 1938, 1951, 1945, 1983, 1946,\n",
       "       1940, 1944, 1949, 1947, 1958, 1941, 1952, 1970, 1957, 1943, 1948,\n",
       "       1959, 2001, 1953, 1954, 1965, 1973, 1961, 1995, 1955, 1962, 1956,\n",
       "       1960, 1964, 1967, 1968, 1963, 1969, 1985, 1971, 1972, 1966, 1992,\n",
       "       1976, 1990, 1986, 1979, 1974, 1981, 1988, 1975, 1978, 1977, 1989,\n",
       "       '1971', '1972', '1970', '1967', '1973', '1974', '1976', '1969',\n",
       "       '1968', '1985', nan, '1981', '1977', '1980', '1986', '1965',\n",
       "       '1975', '1978', '2010', '2018', '1979', '1989', '1988', '1984',\n",
       "       '1966', '1983', '1995', '1982', '1992', '1991', '1952', '1987',\n",
       "       '1963', '1961', '1994', '1993', '1990', '1964', '1957', '1959',\n",
       "       '2019', '1999', '2005', '1953', '1998', '1947', '2014', '2002',\n",
       "       '1997', '2004', '1996', '2017', '2000', '1945', '1956', '2001',\n",
       "       '2013', '1955', '2009', '1949', '2008', '2003', '2007', '1960',\n",
       "       '1930', '1938', '1929', '1944', '1935', '1962', '1919', '1951',\n",
       "       '1914', '1954', '1958', '1907', '1942', '1918', '1943', '1921',\n",
       "       '1927', '1941', '1939', '1940', '1937', '1950', '1946', '1916',\n",
       "       '1948', '1934', '1912', '1911', '1926', '1933', '1936', '1925',\n",
       "       '1932', '1913', '1928', '1917', '1920', '1931', '1895', '2006',\n",
       "       '1922', '1923', '1924', '1900', '1908', '1915', '1910', '1897',\n",
       "       '1905', '1909', '1903', '2016', '1902', '1901', '1906', '1904',\n",
       "       '1898', '1896', '1899', '2012', '2011', '1894', '2015', '1892',\n",
       "       '1893', '1891', '2021', '2020', '1888', '1890', '1889', '2022',\n",
       "       '2023', '2024', '2026', '2025', '1887', '1878', '1874', '2115',\n",
       "       '1883', '2027', '1881', '1885'], dtype=object)"
      ]
     },
     "execution_count": 99,
     "metadata": {},
     "output_type": "execute_result"
    }
   ],
   "source": [
    "titles_basic['startYear'].unique()"
   ]
  },
  {
   "cell_type": "code",
   "execution_count": 100,
   "metadata": {},
   "outputs": [
    {
     "data": {
      "text/plain": [
       "array([nan, '1947', '1950', '1949', '1958', '1951', '1952', '1954',\n",
       "       '1957', '1953', '1956', '1967', '1971', '1959', '1955', '1963',\n",
       "       '1960', '1961', '1965', '1980', '2016', '1986', '1962', '1972',\n",
       "       '1966', '1970', '2009', '1973', '1987', '1991', '1974', '1992',\n",
       "       '1976', '1975', '1982', '2010', '1984', '1964', '1968', '1989',\n",
       "       '1969', '1994', '2004', '1981', '1977', '1999', '1988', '2003',\n",
       "       '1978', '2001', '2013', '1993', '1997', '1996', '2011', '2005',\n",
       "       '1995', '1979', '2006', '1985', '1983', '1998', '1990', '2008',\n",
       "       '2007', '2015', '2014', '2000', '2019', '2002', '2018', '2012',\n",
       "       '2020', '1948', '2017', '1938', '1942', '1933', '2021', '2026',\n",
       "       '2022', '1946', '1945', '1941', '1937', '1939', '1932', '2025',\n",
       "       '1936', '1924', '1927', '1935', '2024', '2027', '24'], dtype=object)"
      ]
     },
     "execution_count": 100,
     "metadata": {},
     "output_type": "execute_result"
    }
   ],
   "source": [
    "titles_basic['endYear'].unique()"
   ]
  },
  {
   "cell_type": "code",
   "execution_count": 101,
   "metadata": {},
   "outputs": [
    {
     "data": {
      "text/plain": [
       "array(['1', '5', '4', nan, '45', '2', '0', '3', '20', '13', '6', '11',\n",
       "       '9', '10', '8', '15', '21', '16', '12', '14', '7', '24', '100',\n",
       "       '17', '70', '25', '120', '36', '18', '30', '19', '38', '58', '50',\n",
       "       '34', '28', '44', '23', '51', '40', '92', '60', '56', '53', '26',\n",
       "       '41', '48', '68', '33', '31', '29', '43', '46', '27', '32', '76',\n",
       "       '85', '55', '121', '89', '37', '69', '22', '54', '90', '35', '150',\n",
       "       '64', '96', '49', '61', '101', '300', '57', '99', '110', '39',\n",
       "       '88', '52', '86', '72', '78', '75', '450', '148', '59', '63',\n",
       "       '112', '1428', '84', '65', '42', '74', '105', '73', '82', '81',\n",
       "       '199', '109', '219', '80', '67', '310', '195', '440', '77', '293',\n",
       "       '97', '62', '71', '47', '250', '421', '360', '180', '66', '163',\n",
       "       '93', '400', '95', '83', '116', '320', '125', '127', '138', '460',\n",
       "       '350', '374', '480', '87', '130', '108', '79', '136', '94', '600',\n",
       "       '240', '117', '146', '104', '418', '330', '242', '223', '489',\n",
       "       '119', '122', '115', '207', '166', '106', '111', '145', '131',\n",
       "       '243', '167', '103', '91', '157', '107', '248', '235', '184',\n",
       "       '102', '380', '98', '200', '133', '128', '143', '137', '183',\n",
       "       '210', '135', '124', '141', '162', '153', '132', '129', '123',\n",
       "       '144', '155', '151', '114', '170', '140', '113', '359', '118',\n",
       "       '126', '179', '260', '230', '168', '142', '139', '159', '185',\n",
       "       '156', '178', '215', '177', '213', '149', '165', '147', '266',\n",
       "       '220', '217', '172', '158', '226', '164', '194', '225', '216',\n",
       "       '227', '231', '218', '246', '281', '208', '228', '229', '212',\n",
       "       '236', '306', '257', '245', '197', '255', '323', '305', '328',\n",
       "       '269', '176', '232', '258', '256', '303', '290', '308', '224',\n",
       "       '294', '252', '268', '204', '298', '299', '264', '160', '211',\n",
       "       '302', '238', '263', '134', '265', '205', '154', '237', '285',\n",
       "       '267', '247', '186', '241', '289', '283', '270', '251', '278',\n",
       "       '196', '279', '261', '275', '280', '244', '189', '169', '284',\n",
       "       '295', '201', '221', '173', '192', '171', '193', '287', '161',\n",
       "       '152', '181', '175', '174', '315', '182', '188', '497', '209',\n",
       "       '190', '327', '317', '191', '434', '234', '288', '438', '422',\n",
       "       '378', '316', '202', '340', '203', '253', '206', '344', '540',\n",
       "       '495', '451', '321', '348', '890', '309', '653', '239', '431',\n",
       "       '390', '187', '370', '396', '282', '632', '198', '669', '467',\n",
       "       '286', '274', '763', '770', '311', '500', '373', '382', '596',\n",
       "       '588', '750', '273', '442', '599', '333', '614', '1256', '385',\n",
       "       '780', '510', '475', '271', '291', '366', '840', '742', '931',\n",
       "       '547', '673', '358', '394', '301', '233', '381', '659', '752',\n",
       "       '504', '410', '520', '720', '883', '313', '420', '778', '413',\n",
       "       '402', '700', '272', '222', '924', '391', '561', '428', '455',\n",
       "       '437', '416', '367', '566', '307', '304', '570', '569', '371',\n",
       "       '415', '376', '870', '312', '572', '407', '331', '375', '436',\n",
       "       '355', '353', '357', '873', '384', '1290', '345', '1620', '318',\n",
       "       '335', '624', '680', '262', '398', '567', '606', '214', '501',\n",
       "       '322', '834', '1140', '522', '361', '276', '314', '515', '762',\n",
       "       '620', '528', '623', '537', '336', '341', '568', '571', '556',\n",
       "       '386', '383', '650', '292', '343', '277', '698', '401', '377',\n",
       "       '672', '465', '702', '660', '622', '356', '296', '1352', '1320',\n",
       "       '395', '583', '665', '339', '259', '351', '388', '325', '1120',\n",
       "       '254', '554', '612', '616', '439', '349', '458', '426', '1500',\n",
       "       '627', '630', '594', '485', '347', '417', '1800', '577', '1440',\n",
       "       '491', '338', '1100', '406', '3122', '729', '821', '369', '297',\n",
       "       '2323', '445', '2382', '435', '960', '615', '535', '392', '663',\n",
       "       '693', '580', '425', '544', '5220', '877', '1080', '389', '464',\n",
       "       '545', '640', '453', '446', '372', '629', '678', '1300', '352',\n",
       "       '689', '793', '2925', '608', '2880', '1170', '462', '1084', '457',\n",
       "       '550', '701', '249', '530', '346', '738', '1970', '354', '551',\n",
       "       '1260', '1020', '1200', '646', '459', '579', '820', '704', '408',\n",
       "       '552', '710', '715', '514', '1664', '1215', '1755', '1710', '1035',\n",
       "       '1370', '1350', '1410', '1380', '326', '1430', '585', '730', '364',\n",
       "       '516', '705', '3600', '1973', '1196', '765', '2001', '1000',\n",
       "       '2002', '502', '8400', '541', '2000', '1999', '414', '652', '1997',\n",
       "       '1040', '1442', '598', '526', '334', '1248', '487', '543', '1773',\n",
       "       '1932', '466', '538', '4800', '363', '3900', '2150', '403', '900',\n",
       "       '527', '636', '575', '564', '379', '412', '506', '800', '441',\n",
       "       '519', '469', '719', '429', '1441', '490', 'Reality-TV', '784',\n",
       "       '474', '990', '368', '3285', '3300', '319', '461', '1400', '59460',\n",
       "       '10062', '2018', '1872', 'Talk-Show', '2160', '337', '468', '584',\n",
       "       '324', '479', '690', '332', '521', '668', '712', '950', '448',\n",
       "       '736', '470', '675', '1452', '1554', '676', '961', '964', '342',\n",
       "       '473', '493', '1560', '397', '1680', '3450', '362', '329', '4200',\n",
       "       '2010', '409', '1568', '751', '761', '5700', '590', '1050', '602',\n",
       "       '845', '853', '513', '2400', '1669', '605', '1210', '865', '463',\n",
       "       '642', '724', '1700', '842', '9000', '613', '411', '557', '525',\n",
       "       '810', '14400', '912', '703', '1584', '536', '532', '404', '625',\n",
       "       '476', '940', '795', '1470', '1411', '546', '1716', '2288', '3000',\n",
       "       '509', '3077', '419', '449', '365', '936', '747', '1005', '1008',\n",
       "       '1285', '655', '2565', '1151', '740', '549', '399', '1644', '539',\n",
       "       '1207', '3240', '6000', '2905', '5460', '1068', '4980', '481',\n",
       "       '607', '433', '1415', '387', '511', '471', '685', '582', '684',\n",
       "       '662', '661', '597', '478', '405', '1559', '771', '430', '443',\n",
       "       '4080', '447', '958', '496', '959', '1044', '914', '484', '494',\n",
       "       '5135', '3851', '3652', '3195', '4479', '2950', '4593', '454',\n",
       "       '1616', '2070', '789', '542', '483', '4162', '477', '3825', '697',\n",
       "       '1228', '1860', '482', '691', '2015', '499', '773', '1439', '472',\n",
       "       '1329', '1532', '548', '432', '954', '5760', '1834', '746', '1184',\n",
       "       '1179', '783', '486', '423', 'Animation,Family', '51420', '531',\n",
       "       '452', '601', '1750', '808', '1980', '2112', '716', '755', '721',\n",
       "       '424', '2088', 'Animation,Comedy,Drama'], dtype=object)"
      ]
     },
     "execution_count": 101,
     "metadata": {},
     "output_type": "execute_result"
    }
   ],
   "source": [
    "titles_basic['runtimeMinutes'].unique()"
   ]
  },
  {
   "cell_type": "code",
   "execution_count": 102,
   "metadata": {},
   "outputs": [
    {
     "data": {
      "text/plain": [
       "array(['Documentary,Short', 'Animation,Short', 'Animation,Comedy,Romance',\n",
       "       ..., 'Musical,Reality-TV,Talk-Show', 'Animation,Short,Talk-Show',\n",
       "       'Comedy,Mystery,Talk-Show'], dtype=object)"
      ]
     },
     "execution_count": 102,
     "metadata": {},
     "output_type": "execute_result"
    }
   ],
   "source": [
    "titles_basic['genres'].unique()"
   ]
  },
  {
   "cell_type": "code",
   "execution_count": null,
   "metadata": {},
   "outputs": [],
   "source": [
    "#pausa no processo"
   ]
  },
  {
   "cell_type": "code",
   "execution_count": 88,
   "metadata": {},
   "outputs": [
    {
     "data": {
      "text/html": [
       "<div>\n",
       "<style scoped>\n",
       "    .dataframe tbody tr th:only-of-type {\n",
       "        vertical-align: middle;\n",
       "    }\n",
       "\n",
       "    .dataframe tbody tr th {\n",
       "        vertical-align: top;\n",
       "    }\n",
       "\n",
       "    .dataframe thead th {\n",
       "        text-align: right;\n",
       "    }\n",
       "</style>\n",
       "<table border=\"1\" class=\"dataframe\">\n",
       "  <thead>\n",
       "    <tr style=\"text-align: right;\">\n",
       "      <th></th>\n",
       "      <th>titleId</th>\n",
       "      <th>ordering</th>\n",
       "      <th>title</th>\n",
       "      <th>region</th>\n",
       "      <th>language</th>\n",
       "      <th>types</th>\n",
       "      <th>attributes</th>\n",
       "      <th>isOriginalTitle</th>\n",
       "    </tr>\n",
       "  </thead>\n",
       "  <tbody>\n",
       "    <tr>\n",
       "      <th>0</th>\n",
       "      <td>tt0000001</td>\n",
       "      <td>1</td>\n",
       "      <td>Carmencita - spanyol tánc</td>\n",
       "      <td>HU</td>\n",
       "      <td>NaN</td>\n",
       "      <td>imdbDisplay</td>\n",
       "      <td>NaN</td>\n",
       "      <td>0</td>\n",
       "    </tr>\n",
       "    <tr>\n",
       "      <th>1</th>\n",
       "      <td>tt0000001</td>\n",
       "      <td>2</td>\n",
       "      <td>Καρμενσίτα</td>\n",
       "      <td>GR</td>\n",
       "      <td>NaN</td>\n",
       "      <td>NaN</td>\n",
       "      <td>NaN</td>\n",
       "      <td>0</td>\n",
       "    </tr>\n",
       "    <tr>\n",
       "      <th>2</th>\n",
       "      <td>tt0000001</td>\n",
       "      <td>3</td>\n",
       "      <td>Карменсита</td>\n",
       "      <td>RU</td>\n",
       "      <td>NaN</td>\n",
       "      <td>NaN</td>\n",
       "      <td>NaN</td>\n",
       "      <td>0</td>\n",
       "    </tr>\n",
       "    <tr>\n",
       "      <th>3</th>\n",
       "      <td>tt0000001</td>\n",
       "      <td>4</td>\n",
       "      <td>Carmencita</td>\n",
       "      <td>US</td>\n",
       "      <td>NaN</td>\n",
       "      <td>NaN</td>\n",
       "      <td>NaN</td>\n",
       "      <td>0</td>\n",
       "    </tr>\n",
       "    <tr>\n",
       "      <th>4</th>\n",
       "      <td>tt0000001</td>\n",
       "      <td>5</td>\n",
       "      <td>Carmencita</td>\n",
       "      <td>NaN</td>\n",
       "      <td>NaN</td>\n",
       "      <td>original</td>\n",
       "      <td>NaN</td>\n",
       "      <td>1</td>\n",
       "    </tr>\n",
       "  </tbody>\n",
       "</table>\n",
       "</div>"
      ],
      "text/plain": [
       "     titleId  ordering                      title region language  \\\n",
       "0  tt0000001         1  Carmencita - spanyol tánc     HU      NaN   \n",
       "1  tt0000001         2                 Καρμενσίτα     GR      NaN   \n",
       "2  tt0000001         3                 Карменсита     RU      NaN   \n",
       "3  tt0000001         4                 Carmencita     US      NaN   \n",
       "4  tt0000001         5                 Carmencita    NaN      NaN   \n",
       "\n",
       "         types attributes isOriginalTitle  \n",
       "0  imdbDisplay        NaN               0  \n",
       "1          NaN        NaN               0  \n",
       "2          NaN        NaN               0  \n",
       "3          NaN        NaN               0  \n",
       "4     original        NaN               1  "
      ]
     },
     "execution_count": 88,
     "metadata": {},
     "output_type": "execute_result"
    }
   ],
   "source": [
    "titles_principal.head()"
   ]
  },
  {
   "cell_type": "code",
   "execution_count": 118,
   "metadata": {},
   "outputs": [
    {
     "data": {
      "text/plain": [
       "titleId            19322610\n",
       "ordering           19322610\n",
       "title              19322610\n",
       "region             18861073\n",
       "language           16126439\n",
       "types               1093713\n",
       "attributes           180679\n",
       "isOriginalTitle    19320480\n",
       "dtype: int64"
      ]
     },
     "execution_count": 118,
     "metadata": {},
     "output_type": "execute_result"
    }
   ],
   "source": [
    "titles_principal.count()"
   ]
  },
  {
   "cell_type": "code",
   "execution_count": 103,
   "metadata": {},
   "outputs": [
    {
     "data": {
      "text/plain": [
       "array([  1,   2,   3,   4,   5,   6,   7,   8,   9,  10,  11,  12,  13,\n",
       "        14,  15,  16,  17,  18,  19,  20,  21,  22,  23,  24,  25,  26,\n",
       "        27,  28,  29,  30,  31,  32,  33,  34,  35,  36,  37,  38,  39,\n",
       "        40,  41,  42,  43,  44,  45,  46,  47,  48,  49,  50,  51,  52,\n",
       "        53,  54,  55,  56,  57,  58,  59,  60,  61,  62,  63,  64,  65,\n",
       "        66,  67,  68,  69,  70,  71,  72,  73,  74,  75,  76,  77,  78,\n",
       "        79,  80,  81,  82,  83,  84,  85, 100, 101, 102, 103, 104, 105,\n",
       "       106, 107, 108, 109, 110, 111, 112, 113, 114, 115, 116, 117, 118,\n",
       "       119, 120, 121, 122, 123, 124, 125, 126, 127, 128, 129, 130, 131,\n",
       "       132, 133, 134, 135, 136, 137, 138,  86,  87,  88,  89,  90,  91,\n",
       "        92,  93,  94,  95,  96,  97,  98,  99], dtype=int64)"
      ]
     },
     "execution_count": 103,
     "metadata": {},
     "output_type": "execute_result"
    }
   ],
   "source": [
    "titles_principal['ordering'].unique()"
   ]
  },
  {
   "cell_type": "code",
   "execution_count": 106,
   "metadata": {},
   "outputs": [
    {
     "data": {
      "text/plain": [
       "array(['Carmencita - spanyol tánc', 'Καρμενσίτα', 'Карменсита', ...,\n",
       "       'Rahibe 2', 'The Possessed Nun', 'The Demonic Nun'], dtype=object)"
      ]
     },
     "execution_count": 106,
     "metadata": {},
     "output_type": "execute_result"
    }
   ],
   "source": [
    "titles_principal['title'].unique()"
   ]
  },
  {
   "cell_type": "code",
   "execution_count": 107,
   "metadata": {},
   "outputs": [
    {
     "data": {
      "text/plain": [
       "array(['HU', 'GR', 'RU', 'US', nan, 'FR', 'RO', 'GB', 'PT', 'ES', 'UY',\n",
       "       'DE', 'IT', 'FI', 'RS', 'PL', 'AR', 'BR', 'XWW', 'TR', 'DK', 'XEU',\n",
       "       'SK', 'CZ', 'SE', 'MX', 'XYU', 'AT', 'VE', 'CSHH', 'SI', 'JP',\n",
       "       'AU', 'NL', 'NO', 'IR', 'UA', 'CA', 'CO', 'BG', 'BE', 'IN', 'DZ',\n",
       "       'CH', 'NZ', 'BF', 'XWG', 'VN', 'SUHH', 'EE', 'IS', 'DDDE', 'HR',\n",
       "       'XKO', 'CL', 'LT', 'EG', 'HK', 'BY', 'GE', 'BA', 'PE', 'PA', 'CN',\n",
       "       'XSI', 'YUCS', 'IE', 'XSA', 'IL', 'CU', 'AL', 'BO', 'ZA', 'KR',\n",
       "       'MY', 'SG', 'BUMM', 'XPI', 'BJ', 'PR', 'CM', 'AZ', 'TH', 'DO',\n",
       "       'EC', 'LV', 'MA', 'GL', 'LI', 'LU', 'PH', 'ID', 'PY', 'MZ', 'BM',\n",
       "       'TW', 'JM', 'MD', 'LB', 'IQ', 'TM', 'MK', 'CR', 'TN', 'NG', 'HT',\n",
       "       'SN', 'GH', 'CI', 'JO', 'KG', 'PK', 'LK', 'GT', 'TJ', 'NE', 'GN',\n",
       "       'VDVN', 'TD', 'SO', 'SD', 'MC', 'CG', 'TT', 'GA', 'BS', 'LY', 'SY',\n",
       "       'AO', 'KH', 'SV', 'MR', 'AF', 'MG', 'ML', 'GY', 'CY', 'ET', 'XAS',\n",
       "       'UZ', 'SR', 'MT', 'AM', 'TG', 'PG', 'MU', 'BI', 'CF', 'NI', 'ZW',\n",
       "       'ZM', 'GW', 'DJ', 'KP', 'KZ', 'RW', 'TZ', 'GI', 'LA', 'SC', 'BD',\n",
       "       'MN', 'AW', 'NP', 'MO', 'KW', 'CV', 'GP', 'SL', 'SM', 'CD', 'CSXX',\n",
       "       'TO', 'BT', 'LS', 'HN', 'KE', 'PS', 'MQ', 'AD', 'SA', 'ZRCD', 'AE',\n",
       "       'GU', 'ER', 'IM', 'XKV', 'BH', 'BB', 'BZ', 'UG', 'AG', 'NU', 'OM',\n",
       "       'QA', 'BW', 'MM', 'YE', 'GQ', 'ME', 'RE', 'KY', 'FO', 'MV', 'FJ',\n",
       "       'NC', 'SZ', 'LC', 'MH', 'VI', 'VC', 'DM', 'AN', 'XNA', 'MW', 'GF',\n",
       "       'GM', 'LR', 'EH', 'VU', 'SH', 'MS', 'TV', 'WS', 'BN', 'PF', 'XAU',\n",
       "       'CK', 'VA', 'TL', 'KM', 'AQ', 'PW', 'NR', 'GD', 'KN', 'AS', 'ST',\n",
       "       'SB', 'JE', 'MP', 'VG', 'KI', 'WF', 'AI'], dtype=object)"
      ]
     },
     "execution_count": 107,
     "metadata": {},
     "output_type": "execute_result"
    }
   ],
   "source": [
    "titles_principal['region'].unique()"
   ]
  },
  {
   "cell_type": "code",
   "execution_count": 108,
   "metadata": {},
   "outputs": [
    {
     "data": {
      "text/plain": [
       "array([nan, 'sv', 'en', 'tr', 'es', 'sr', 'cs', 'fa', 'fr', 'bg', 'ca',\n",
       "       'nl', 'qbn', 'pt', 'ru', 'qbp', 'ar', 'cmn', 'rn', 'bs', 'de',\n",
       "       'hi', 'yi', 'qbo', 'uk', 'ka', 'hr', 'sl', 'he', 'tg', 'sk', 'kk',\n",
       "       'el', 'fi', 'it', 'da', 'gsw', 'az', 'ms', 'pl', 'mr', 'uz', 'gl',\n",
       "       'th', 'ta', 'eu', 'yue', 'af', 'la', 'hy', 'ur', 'bn', 'te', 'be',\n",
       "       'lt', 'mk', 'et', 'gd', 'tl', 'lv', 'cy', 'id', 'qal', 'goh', 'ml',\n",
       "       'ro', 'ja', 'hu', 'pa', 'no', 'is', 'sq', 'vi', 'ga', 'gu', 'ps',\n",
       "       'nqo', 'sd', 'kn', 'xh', 'mi', 'wo', 'zu', 'rm', 'prs', 'ky',\n",
       "       'fro', 'mn', 'lo', 'my', 'zh', 'am', 'qac', 'ku', 'ne', 'ko',\n",
       "       'haw', 'myv', 'iu', 'st', 'tn', 'cr'], dtype=object)"
      ]
     },
     "execution_count": 108,
     "metadata": {},
     "output_type": "execute_result"
    }
   ],
   "source": [
    "titles_principal['language'].unique()"
   ]
  },
  {
   "cell_type": "code",
   "execution_count": 109,
   "metadata": {},
   "outputs": [
    {
     "data": {
      "text/plain": [
       "array(['imdbDisplay', nan, 'original', 'alternative', 'dvd', 'festival',\n",
       "       'working', 'tv', 'video', 'tv\\x02working', 'tv\\x02video',\n",
       "       'video\\x02working', 'festival\\x02working', 'dvd\\x02video',\n",
       "       'dvd\\x02imdbDisplay', 'dvd\\x02working'], dtype=object)"
      ]
     },
     "execution_count": 109,
     "metadata": {},
     "output_type": "execute_result"
    }
   ],
   "source": [
    "titles_principal['types'].unique()"
   ]
  },
  {
   "cell_type": "code",
   "execution_count": 110,
   "metadata": {},
   "outputs": [
    {
     "data": {
      "text/plain": [
       "array([nan, 'literal English title', 'informal alternative title',\n",
       "       'promotional title', 'complete title', 'poster title',\n",
       "       'literal translation of working title', 'premiere title',\n",
       "       'informal title', 'short title', 'première title',\n",
       "       'bowdlerized title', 'reissue title', 'informal English title',\n",
       "       'alternative spelling', 'original script title',\n",
       "       'informal literal title', 'copyright title', 'long title',\n",
       "       'literal title', 'transliterated ISO-LATIN-1 title',\n",
       "       'informal short title', 'review title', 'new title', 'subtitle',\n",
       "       'original subtitled version', 'cut version',\n",
       "       'video catalogue title', 'second part title',\n",
       "       'fourth season title', 'third part title', 'fifth season title',\n",
       "       'series title', 'recut version', 'pre-release title',\n",
       "       'theatrical title', 'first part title',\n",
       "       'informal literal English title', '8mm release title',\n",
       "       'Los Angeles première title', 'DVD box title',\n",
       "       'second copyright title', '16mm release title', 'short version',\n",
       "       'video box title', 'rerun title', 'restored version',\n",
       "       'english transliteration', 'recut version\\x02reissue title',\n",
       "       '8mm release title\\x02short version',\n",
       "       'alternative transliteration', 'trailer title', 'censored version',\n",
       "       'DVD menu title', 'silent version', 'Berlin film festival title',\n",
       "       'Cannes festival title', 'dubbed version',\n",
       "       'added framing sequences and narration in Yiddish\\x02reissue title',\n",
       "       'segment title', 'bootleg title', 'orthographically correct title',\n",
       "       'Bable dialect title', 'Venice film festival title',\n",
       "       'Yiddish dubbed\\x02reissue title', 'cable TV title',\n",
       "       'uncensored intended title', 'last season title', 'Yiddish dubbed',\n",
       "       'TV listings title', 'YIVO translation', 'anthology series',\n",
       "       'modern translation', 'first episode title', 'long new title',\n",
       "       \"director's cut\", 'POLart\\x02video box title', 'POLart',\n",
       "       'YIVO translation\\x02reissue title',\n",
       "       'cut version\\x02reissue title', 'racier version',\n",
       "       'redubbed comic version', 'X-rated version',\n",
       "       'copyright title\\x02reissue title', 'syndication title',\n",
       "       'fake working title', 'closing credits title',\n",
       "       'armed forces circuit title', 'reissue title\\x02short version',\n",
       "       'weekend title', 'first season title', 'summer title',\n",
       "       'longer version', 'second season title', 'sixth season title',\n",
       "       'first two episodes title', 'first episodes title',\n",
       "       'first three episodes title', 'Pay-TV title', 'tenth season title',\n",
       "       '3-D version', 'MIFED title', '3-D video title',\n",
       "       'literal French title', 'third and fourth season title',\n",
       "       'new syndication title', 'ninth season title',\n",
       "       'eighth season title', 'expansion title',\n",
       "       'correct transliteration', '16mm rental title',\n",
       "       'fourteenth season title', 'teaser title', 'daytime version title',\n",
       "       'seventh season title', 'third season title', 'video CD title',\n",
       "       'LD title', 'promotional abbreviation', 'ISO-LATIN-1 title',\n",
       "       'soft porn version', 'unauthorized video title',\n",
       "       'cut version\\x02video box title',\n",
       "       'racier version\\x02reissue title',\n",
       "       '8mm release title\\x02second part title',\n",
       "       'English translation of working title', 'fifteenth season title',\n",
       "       'twentyfifth season title', 'twentieth season title',\n",
       "       'fourth part title', 'thirtysecond season title',\n",
       "       'informal title\\x02literal title', 'cable TV title\\x02cut version',\n",
       "       'closing credits title\\x02pre-release title', 'IMAX version',\n",
       "       'non-modified Hepburn romanization', 'Locarno film festival title',\n",
       "       'Los Angeles premiere title', 'eleventh season title',\n",
       "       'first four episodes title',\n",
       "       'approximation of original mirrored title', 'twelfth season title',\n",
       "       'DVD box title\\x02promotional abbreviation',\n",
       "       'IMAX version\\x02promotional title',\n",
       "       'title for episodes with guest hosts', 'thirtieth season title',\n",
       "       'sixteenth season title', 'twentyseventh season title',\n",
       "       'nineteenth season title', 'twentyfourth season title',\n",
       "       'twentysixth season title', 'twentysecond season title',\n",
       "       'twentythird season title', 'twentyfirst season title',\n",
       "       'game box title', 'X-rated version\\x02bootleg title',\n",
       "       'poster title\\x02video box title', 'eighteenth season title',\n",
       "       'thirteenth season title', 'seventeenth season title',\n",
       "       'dubbed version\\x02recut version', 'thirtythird season title',\n",
       "       'twentyninth season title', 'thirtyfirst season title',\n",
       "       'American Mutoscope & Biograph catalog title', 'R-rated version',\n",
       "       'original pilot title', 'thirtysixth season title',\n",
       "       'thirtyseventh season title', 'thirtyfourth season title',\n",
       "       'twentyeighth season title', 'thirtyninth season title',\n",
       "       'thirtyeighth season title', 'thirtyfifth season title',\n",
       "       'Hakka dialect title', 'Bilbao festival title',\n",
       "       'promotional title\\x02thirteenth season title',\n",
       "       'orthographically correct title\\x02video box title',\n",
       "       'late Sunday edition', 'PC version',\n",
       "       'fourth season title\\x02recut version', 'GameCube version',\n",
       "       'third segment title', 'first segment title',\n",
       "       'second segment title', 'fifth part title', 'videogame episode',\n",
       "       'incorrect title', 'rumored'], dtype=object)"
      ]
     },
     "execution_count": 110,
     "metadata": {},
     "output_type": "execute_result"
    }
   ],
   "source": [
    "titles_principal['attributes'].unique()"
   ]
  },
  {
   "cell_type": "code",
   "execution_count": 112,
   "metadata": {},
   "outputs": [
    {
     "data": {
      "text/plain": [
       "array([0, 1, '0', '1', nan], dtype=object)"
      ]
     },
     "execution_count": 112,
     "metadata": {},
     "output_type": "execute_result"
    }
   ],
   "source": [
    "titles_principal['isOriginalTitle'].unique()"
   ]
  },
  {
   "cell_type": "code",
   "execution_count": null,
   "metadata": {},
   "outputs": [],
   "source": []
  },
  {
   "cell_type": "code",
   "execution_count": 113,
   "metadata": {},
   "outputs": [
    {
     "data": {
      "text/html": [
       "<div>\n",
       "<style scoped>\n",
       "    .dataframe tbody tr th:only-of-type {\n",
       "        vertical-align: middle;\n",
       "    }\n",
       "\n",
       "    .dataframe tbody tr th {\n",
       "        vertical-align: top;\n",
       "    }\n",
       "\n",
       "    .dataframe thead th {\n",
       "        text-align: right;\n",
       "    }\n",
       "</style>\n",
       "<table border=\"1\" class=\"dataframe\">\n",
       "  <thead>\n",
       "    <tr style=\"text-align: right;\">\n",
       "      <th></th>\n",
       "      <th>tconst</th>\n",
       "      <th>averageRating</th>\n",
       "      <th>numVotes</th>\n",
       "    </tr>\n",
       "  </thead>\n",
       "  <tbody>\n",
       "    <tr>\n",
       "      <th>0</th>\n",
       "      <td>tt0000001</td>\n",
       "      <td>5.6</td>\n",
       "      <td>1550</td>\n",
       "    </tr>\n",
       "    <tr>\n",
       "      <th>1</th>\n",
       "      <td>tt0000002</td>\n",
       "      <td>6.1</td>\n",
       "      <td>186</td>\n",
       "    </tr>\n",
       "    <tr>\n",
       "      <th>2</th>\n",
       "      <td>tt0000003</td>\n",
       "      <td>6.5</td>\n",
       "      <td>1207</td>\n",
       "    </tr>\n",
       "    <tr>\n",
       "      <th>3</th>\n",
       "      <td>tt0000004</td>\n",
       "      <td>6.2</td>\n",
       "      <td>113</td>\n",
       "    </tr>\n",
       "    <tr>\n",
       "      <th>4</th>\n",
       "      <td>tt0000005</td>\n",
       "      <td>6.1</td>\n",
       "      <td>1934</td>\n",
       "    </tr>\n",
       "  </tbody>\n",
       "</table>\n",
       "</div>"
      ],
      "text/plain": [
       "      tconst  averageRating  numVotes\n",
       "0  tt0000001            5.6      1550\n",
       "1  tt0000002            6.1       186\n",
       "2  tt0000003            6.5      1207\n",
       "3  tt0000004            6.2       113\n",
       "4  tt0000005            6.1      1934"
      ]
     },
     "execution_count": 113,
     "metadata": {},
     "output_type": "execute_result"
    }
   ],
   "source": [
    "titles_rating.head()"
   ]
  },
  {
   "cell_type": "code",
   "execution_count": 119,
   "metadata": {},
   "outputs": [
    {
     "data": {
      "text/plain": [
       "tconst           993153\n",
       "averageRating    993153\n",
       "numVotes         993153\n",
       "dtype: int64"
      ]
     },
     "execution_count": 119,
     "metadata": {},
     "output_type": "execute_result"
    }
   ],
   "source": [
    "titles_rating.count()"
   ]
  },
  {
   "cell_type": "code",
   "execution_count": null,
   "metadata": {},
   "outputs": [],
   "source": [
    "#titles_principal com os nomes dos atores names"
   ]
  },
  {
   "cell_type": "code",
   "execution_count": null,
   "metadata": {},
   "outputs": [],
   "source": []
  },
  {
   "cell_type": "code",
   "execution_count": null,
   "metadata": {},
   "outputs": [],
   "source": []
  },
  {
   "cell_type": "code",
   "execution_count": null,
   "metadata": {},
   "outputs": [],
   "source": []
  },
  {
   "cell_type": "code",
   "execution_count": null,
   "metadata": {},
   "outputs": [],
   "source": []
  },
  {
   "cell_type": "code",
   "execution_count": null,
   "metadata": {},
   "outputs": [],
   "source": []
  },
  {
   "cell_type": "code",
   "execution_count": null,
   "metadata": {},
   "outputs": [],
   "source": []
  },
  {
   "cell_type": "code",
   "execution_count": null,
   "metadata": {},
   "outputs": [],
   "source": []
  },
  {
   "cell_type": "code",
   "execution_count": null,
   "metadata": {},
   "outputs": [],
   "source": []
  },
  {
   "cell_type": "code",
   "execution_count": null,
   "metadata": {},
   "outputs": [],
   "source": []
  },
  {
   "cell_type": "code",
   "execution_count": null,
   "metadata": {},
   "outputs": [],
   "source": []
  }
 ],
 "metadata": {
  "kernelspec": {
   "display_name": "Python 3",
   "language": "python",
   "name": "python3"
  },
  "language_info": {
   "codemirror_mode": {
    "name": "ipython",
    "version": 3
   },
   "file_extension": ".py",
   "mimetype": "text/x-python",
   "name": "python",
   "nbconvert_exporter": "python",
   "pygments_lexer": "ipython3",
   "version": "3.7.3"
  }
 },
 "nbformat": 4,
 "nbformat_minor": 2
}
